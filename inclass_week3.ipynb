{
  "nbformat": 4,
  "nbformat_minor": 0,
  "metadata": {
    "colab": {
      "name": "week3.ipynb",
      "provenance": [],
      "collapsed_sections": [],
      "include_colab_link": true
    },
    "kernelspec": {
      "name": "python3",
      "display_name": "Python 3"
    }
  },
  "cells": [
    {
      "cell_type": "markdown",
      "metadata": {
        "id": "view-in-github",
        "colab_type": "text"
      },
      "source": [
        "<a href=\"https://colab.research.google.com/github/3lLobo/basic-probability-programming/blob/master/inclass_week3.ipynb\" target=\"_parent\"><img src=\"https://colab.research.google.com/assets/colab-badge.svg\" alt=\"Open In Colab\"/></a>"
      ]
    },
    {
      "cell_type": "code",
      "metadata": {
        "id": "OuAbRn_4zwPI",
        "outputId": "59350b39-84f7-4022-db89-a4f15679ff42",
        "colab": {
          "base_uri": "https://localhost:8080/"
        }
      },
      "source": [
        "from collections import Counter\n",
        "\n",
        "cnt = Counter()\n",
        "colors = ['red', 'blue', 'red', 'green', 'blue', 'blue', 'yellow', 'purple', 'purple']\n",
        "#dict {'red': freq_red, 'green': freq_green, ..., }\n",
        "\n",
        "cnt.update(colors)\n",
        "print('Counter after filling once', cnt)\n",
        "\n",
        "colors_2 = ['purple', 'red', 'green', 'green', 'yellow', 'black']\n",
        "cnt.update(colors_2)\n",
        "\n",
        "print('Counter after filling twice', cnt)\n",
        "print('most common', cnt.most_common(2))\n",
        "\n"
      ],
      "execution_count": null,
      "outputs": [
        {
          "output_type": "stream",
          "text": [
            "Counter after filling once Counter({'blue': 3, 'red': 2, 'purple': 2, 'green': 1, 'yellow': 1})\n",
            "Counter after filling twice Counter({'red': 3, 'blue': 3, 'green': 3, 'purple': 3, 'yellow': 2, 'black': 1})\n",
            "most common [('red', 3), ('blue', 3)]\n"
          ],
          "name": "stdout"
        }
      ]
    },
    {
      "cell_type": "code",
      "metadata": {
        "id": "wqESYYgWCJE0",
        "outputId": "ea509ec7-f82c-45e2-c874-e86f4c547797",
        "colab": {
          "base_uri": "https://localhost:8080/"
        }
      },
      "source": [
        "import random\n",
        "import itertools\n",
        "from collections import Counter\n",
        "\n",
        "#We will first operate with a fake text (only later will we substitute it\n",
        "#with a book). We will assign the following list to a variable with a recognizable name:\n",
        "\n",
        "temp_text = [\"The boy kissed a frog.\", \"After kissing it, nothing happened and the boy got angry and left the frog where he kissed it.\", \"The frog never saw the boy and the boy kissed no frog since then.\"]\n",
        "\n",
        "#1. Write a generator, split_text. The generator takes a list of strings\n",
        "#(sentences). It splits each sentence by space and lowers all characters.\n",
        "#It yields a list of words, such that the word list corresponds to one\n",
        "#sentence.\n",
        "\n",
        "def split_text(text):\n",
        "    \"\"\"\n",
        "    text: list of strings.\n",
        "    \"\"\"\n",
        "    for sentence in text:\n",
        "            yield sentence.lower().split()\n",
        "\n",
        "def split1_text(text):\n",
        "  new_text = []\n",
        "  for sentence in text:\n",
        "    lowered_words = sentence.lower().split()\n",
        "    new_text.append(lowered_words)\n",
        "  return new_text\n",
        "\n",
        "\n",
        "#2. Test that split_text works. The loop below should print one sentence,\n",
        "#appearing as a list of words, per iteration.\n",
        "\n",
        "test = split_text(temp_text)\n",
        "test1 = split1_text(temp_text)\n",
        "print(\"generator\", test)\n",
        "print(\"normal function\", test1)\n",
        "#let's loop over generator \n",
        "for sentence in test:\n",
        "    print(sentence)\n",
        "    print(\"*********\")"
      ],
      "execution_count": null,
      "outputs": [
        {
          "output_type": "stream",
          "text": [
            "generator <generator object split_text at 0x7f559b9bfeb8>\n",
            "normal function [['the', 'boy', 'kissed', 'a', 'frog.'], ['after', 'kissing', 'it,', 'nothing', 'happened', 'and', 'the', 'boy', 'got', 'angry', 'and', 'left', 'the', 'frog', 'where', 'he', 'kissed', 'it.'], ['the', 'frog', 'never', 'saw', 'the', 'boy', 'and', 'the', 'boy', 'kissed', 'no', 'frog', 'since', 'then.']]\n",
            "['the', 'boy', 'kissed', 'a', 'frog.']\n",
            "*********\n",
            "['after', 'kissing', 'it,', 'nothing', 'happened', 'and', 'the', 'boy', 'got', 'angry', 'and', 'left', 'the', 'frog', 'where', 'he', 'kissed', 'it.']\n",
            "*********\n",
            "['the', 'frog', 'never', 'saw', 'the', 'boy', 'and', 'the', 'boy', 'kissed', 'no', 'frog', 'since', 'then.']\n",
            "*********\n"
          ],
          "name": "stdout"
        }
      ]
    },
    {
      "cell_type": "code",
      "metadata": {
        "id": "npYhskfHD36c",
        "outputId": "28efecbe-141f-489b-f372-94f2d198d755",
        "colab": {
          "base_uri": "https://localhost:8080/"
        }
      },
      "source": [
        "!wget -O war_peace.txt https://github.com/probabll/basic-probability-programming/raw/master/weekly_tasks/week2/homework/code/war_peace.txt"
      ],
      "execution_count": null,
      "outputs": [
        {
          "output_type": "stream",
          "text": [
            "--2020-11-16 12:39:05--  https://github.com/probabll/basic-probability-programming/raw/master/weekly_tasks/week2/homework/code/war_peace.txt\n",
            "Resolving github.com (github.com)... 13.114.40.48\n",
            "Connecting to github.com (github.com)|13.114.40.48|:443... connected.\n",
            "HTTP request sent, awaiting response... 302 Found\n",
            "Location: https://raw.githubusercontent.com/probabll/basic-probability-programming/master/weekly_tasks/week2/homework/code/war_peace.txt [following]\n",
            "--2020-11-16 12:39:06--  https://raw.githubusercontent.com/probabll/basic-probability-programming/master/weekly_tasks/week2/homework/code/war_peace.txt\n",
            "Resolving raw.githubusercontent.com (raw.githubusercontent.com)... 151.101.0.133, 151.101.64.133, 151.101.128.133, ...\n",
            "Connecting to raw.githubusercontent.com (raw.githubusercontent.com)|151.101.0.133|:443... connected.\n",
            "HTTP request sent, awaiting response... 200 OK\n",
            "Length: 3291647 (3.1M) [text/plain]\n",
            "Saving to: ‘war_peace.txt’\n",
            "\n",
            "war_peace.txt       100%[===================>]   3.14M  20.1MB/s    in 0.2s    \n",
            "\n",
            "2020-11-16 12:39:07 (20.1 MB/s) - ‘war_peace.txt’ saved [3291647/3291647]\n",
            "\n"
          ],
          "name": "stdout"
        }
      ]
    },
    {
      "cell_type": "code",
      "metadata": {
        "id": "N0fqXCocDQx9",
        "outputId": "2282e474-307b-4981-8a9a-664100ffce0e",
        "colab": {
          "base_uri": "https://localhost:8080/"
        }
      },
      "source": [
        "def collect_words(name_file):\n",
        "  with open(name_file) as text:\n",
        "    for line in text:\n",
        "      yield line.lower().split()\n",
        "\n",
        "iterator1 = collect_words('war_peace.txt')\n",
        "freq_dict = Counter()\n",
        "for line in iterator1:\n",
        "  freq_dict.update(line)\n",
        "\n",
        "freq_dict.most_common(10)\n"
      ],
      "execution_count": null,
      "outputs": [
        {
          "output_type": "execute_result",
          "data": {
            "text/plain": [
              "[('the', 34261),\n",
              " ('and', 21403),\n",
              " ('to', 16502),\n",
              " ('of', 14903),\n",
              " ('a', 10413),\n",
              " ('he', 9296),\n",
              " ('in', 8607),\n",
              " ('his', 7932),\n",
              " ('that', 7417),\n",
              " ('was', 7202)]"
            ]
          },
          "metadata": {
            "tags": []
          },
          "execution_count": 41
        }
      ]
    }
  ]
}