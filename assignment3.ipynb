{
  "nbformat": 4,
  "nbformat_minor": 0,
  "metadata": {
    "colab": {
      "name": "read_zip.ipynb",
      "provenance": [],
      "include_colab_link": true
    },
    "kernelspec": {
      "name": "python3",
      "display_name": "Python 3"
    }
  },
  "cells": [
    {
      "cell_type": "markdown",
      "metadata": {
        "id": "view-in-github",
        "colab_type": "text"
      },
      "source": [
        "<a href=\"https://colab.research.google.com/github/3lLobo/basic-probability-programming/blob/master/assignment3.ipynb\" target=\"_parent\"><img src=\"https://colab.research.google.com/assets/colab-badge.svg\" alt=\"Open In Colab\"/></a>"
      ]
    },
    {
      "cell_type": "markdown",
      "metadata": {
        "id": "-5HKdaGR0l9O"
      },
      "source": [
        "Combining wget and unzip, we can easily download a zip file and unpack.\n"
      ]
    },
    {
      "cell_type": "code",
      "metadata": {
        "id": "UMmDQF2r0BCZ",
        "outputId": "12a05fb0-5c61-4250-a04d-ea8ce8e0ad67",
        "colab": {
          "base_uri": "https://localhost:8080/"
        }
      },
      "source": [
        "!wget -O corpus.zip https://github.com/probabll/basic-probability-programming/raw/master/weekly_tasks/week3/homework/code/corpus.zip\n",
        "!unzip corpus.zip"
      ],
      "execution_count": null,
      "outputs": [
        {
          "output_type": "stream",
          "text": [
            "--2020-11-16 14:05:22--  https://github.com/probabll/basic-probability-programming/raw/master/weekly_tasks/week3/homework/code/corpus.zip\n",
            "Resolving github.com (github.com)... 192.30.255.112\n",
            "Connecting to github.com (github.com)|192.30.255.112|:443... connected.\n",
            "HTTP request sent, awaiting response... 302 Found\n",
            "Location: https://raw.githubusercontent.com/probabll/basic-probability-programming/master/weekly_tasks/week3/homework/code/corpus.zip [following]\n",
            "--2020-11-16 14:05:23--  https://raw.githubusercontent.com/probabll/basic-probability-programming/master/weekly_tasks/week3/homework/code/corpus.zip\n",
            "Resolving raw.githubusercontent.com (raw.githubusercontent.com)... 151.101.0.133, 151.101.64.133, 151.101.128.133, ...\n",
            "Connecting to raw.githubusercontent.com (raw.githubusercontent.com)|151.101.0.133|:443... connected.\n",
            "HTTP request sent, awaiting response... 200 OK\n",
            "Length: 5559299 (5.3M) [application/zip]\n",
            "Saving to: ‘corpus.zip’\n",
            "\n",
            "corpus.zip          100%[===================>]   5.30M  --.-KB/s    in 0.1s    \n",
            "\n",
            "2020-11-16 14:05:23 (42.0 MB/s) - ‘corpus.zip’ saved [5559299/5559299]\n",
            "\n",
            "Archive:  corpus.zip\n",
            "   creating: corpus/\n",
            "  inflating: corpus/.DS_Store        \n",
            "   creating: __MACOSX/\n",
            "   creating: __MACOSX/corpus/\n",
            "  inflating: __MACOSX/corpus/._.DS_Store  \n",
            "  inflating: corpus/1789-Washington.txt  \n",
            "  inflating: corpus/1793-Washington.txt  \n",
            "  inflating: corpus/1797-Adams.txt   \n",
            "  inflating: corpus/1801-Jefferson.txt  \n",
            "  inflating: corpus/1805-Jefferson.txt  \n",
            "  inflating: corpus/1809-Madison.txt  \n",
            "  inflating: corpus/1813-Madison.txt  \n",
            "  inflating: corpus/1817-Monroe.txt  \n",
            "  inflating: corpus/1821-Monroe.txt  \n",
            "  inflating: corpus/1825-Adams.txt   \n",
            "  inflating: corpus/1829-Jackson.txt  \n",
            "  inflating: corpus/1833-Jackson.txt  \n",
            "  inflating: corpus/1837-VanBuren.txt  \n",
            "  inflating: corpus/1841-Harrison.txt  \n",
            "  inflating: corpus/1845-Polk.txt    \n",
            "  inflating: corpus/1849-Taylor.txt  \n",
            "  inflating: corpus/1853-Pierce.txt  \n",
            "  inflating: corpus/1857-Buchanan.txt  \n",
            "  inflating: corpus/1861-Lincoln.txt  \n",
            "  inflating: corpus/1865-Lincoln.txt  \n",
            "  inflating: corpus/1869-Grant.txt   \n",
            "  inflating: corpus/1873-Grant.txt   \n",
            "  inflating: corpus/1877-Hayes.txt   \n",
            "  inflating: corpus/1881-Garfield.txt  \n",
            "  inflating: corpus/1885-Cleveland.txt  \n",
            "  inflating: corpus/1889-Harrison.txt  \n",
            "  inflating: corpus/1893-Cleveland.txt  \n",
            "  inflating: corpus/1897-McKinley.txt  \n",
            "  inflating: corpus/1901-McKinley.txt  \n",
            "  inflating: corpus/1905-Roosevelt.txt  \n",
            "  inflating: corpus/1909-Taft.txt    \n",
            "  inflating: corpus/1913-Wilson.txt  \n",
            "  inflating: corpus/1917-Wilson.txt  \n",
            "  inflating: corpus/1921-Harding.txt  \n",
            "  inflating: corpus/1925-Coolidge.txt  \n",
            "  inflating: corpus/1929-Hoover.txt  \n",
            "  inflating: corpus/1933-Roosevelt.txt  \n",
            "  inflating: corpus/1937-Roosevelt.txt  \n",
            "  inflating: corpus/1941-Roosevelt.txt  \n",
            "  inflating: corpus/1945-Roosevelt.txt  \n",
            "  inflating: corpus/1949-Truman.txt  \n",
            "  inflating: corpus/1953-Eisenhower.txt  \n",
            "  inflating: corpus/1957-Eisenhower.txt  \n",
            "  inflating: corpus/1961-Kennedy.txt  \n",
            "  inflating: corpus/1965-Johnson.txt  \n",
            "  inflating: corpus/1969-Nixon.txt   \n",
            "  inflating: corpus/1973-Nixon.txt   \n",
            "  inflating: corpus/1977-Carter.txt  \n",
            "  inflating: corpus/1981-Reagan.txt  \n",
            "  inflating: corpus/1985-Reagan.txt  \n",
            "  inflating: corpus/1989-Bush.txt    \n",
            "  inflating: corpus/1993-Clinton.txt  \n",
            "  inflating: corpus/1997-Clinton.txt  \n",
            "  inflating: corpus/2001-Bush.txt    \n",
            "  inflating: corpus/2005-Bush.txt    \n",
            "  inflating: corpus/2009-Obama.txt   \n",
            "  inflating: corpus/austen-emma.txt  \n",
            "  inflating: __MACOSX/corpus/._austen-emma.txt  \n",
            "  inflating: corpus/austen-persuasion.txt  \n",
            "  inflating: corpus/austen-sense.txt  \n",
            "  inflating: corpus/bible-kjv.txt    \n",
            "  inflating: corpus/blake-poems.txt  \n",
            "  inflating: corpus/bryant-stories.txt  \n",
            "  inflating: corpus/burgess-busterbrown.txt  \n",
            "  inflating: corpus/carroll-alice.txt  \n",
            "  inflating: corpus/chesterton-ball.txt  \n",
            "  inflating: corpus/chesterton-brown.txt  \n",
            "  inflating: corpus/chesterton-thursday.txt  \n",
            "  inflating: corpus/corpus-subset.json  \n",
            "  inflating: corpus/corpus.json      \n",
            "  inflating: corpus/edgeworth-parents.txt  \n",
            "  inflating: corpus/ep-00-01-17.en   \n",
            "  inflating: corpus/ep-00-01-18.en   \n",
            "  inflating: corpus/ep-00-01-19.en   \n",
            "  inflating: corpus/ep-00-01-21.en   \n",
            "  inflating: corpus/ep-00-02-02.en   \n",
            "  inflating: corpus/ep-00-02-03.en   \n",
            "  inflating: corpus/ep-00-02-14.en   \n",
            "  inflating: corpus/ep-00-02-15.en   \n",
            "  inflating: corpus/ep-00-02-16.en   \n",
            "  inflating: corpus/ep-00-02-17.en   \n",
            "  inflating: corpus/melville-moby_dick.txt  \n",
            "  inflating: corpus/milton-paradise.txt  \n",
            "  inflating: corpus/shakespeare-caesar.txt  \n",
            "  inflating: corpus/shakespeare-hamlet.txt  \n",
            "  inflating: corpus/shakespeare-macbeth.txt  \n",
            "  inflating: corpus/whitman-leaves.txt  \n"
          ],
          "name": "stdout"
        }
      ]
    },
    {
      "cell_type": "markdown",
      "metadata": {
        "id": "iVzjKslc1Pxk"
      },
      "source": [
        "We can now load in the prepared dictionary. See the assignment for the details and purpose of the dictionaries. \n",
        "\n"
      ]
    },
    {
      "cell_type": "code",
      "metadata": {
        "id": "X_wXnuAv0yEa",
        "outputId": "8cb24fde-09bd-42ee-ffdb-26bd33bb738e",
        "colab": {
          "base_uri": "https://localhost:8080/"
        }
      },
      "source": [
        "import json\n",
        "import numpy as np\n",
        "corpus = json.load(open('corpus/corpus-subset.json', 'r'))\n",
        "\n",
        "#print an example to inspect the structure of the dictionary. \n",
        "print(corpus[\"1789-Washington\"])"
      ],
      "execution_count": null,
      "outputs": [
        {
          "output_type": "stream",
          "text": [
            "{'collection': 'inaugural', 'fid': '1789-Washington', 'filename': 'corpus/1789-Washington.txt'}\n"
          ],
          "name": "stdout"
        }
      ]
    }
  ]
}